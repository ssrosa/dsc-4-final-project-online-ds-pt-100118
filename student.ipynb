{
 "cells": [
  {
   "cell_type": "markdown",
   "metadata": {},
   "source": [
    "## Final Project Submission\n",
    "\n",
    "Please fill out:\n",
    "* Student name: \n",
    "* Student pace: self paced / part time / full time\n",
    "* Scheduled project review date/time: \n",
    "* Instructor name: \n",
    "* Blog post URL:\n"
   ]
  },
  {
   "cell_type": "code",
   "execution_count": null,
   "metadata": {},
   "outputs": [],
   "source": [
    "# Your code here - remember to use markdown cells for comments as well!"
   ]
  },
  {
   "cell_type": "code",
   "execution_count": 8,
   "metadata": {},
   "outputs": [
    {
     "name": "stdout",
     "output_type": "stream",
     "text": [
      "Collecting spacy\n",
      "  Downloading https://files.pythonhosted.org/packages/83/26/b829c281ea584cd1d3889e40b57527782b748cbd91e753796506210f8bb4/spacy-2.1.4-cp36-cp36m-win_amd64.whl (29.0MB)\n",
      "Collecting cymem<2.1.0,>=2.0.2 (from spacy)\n",
      "  Downloading https://files.pythonhosted.org/packages/c2/93/4b543adf6c0d73ed4e05d92abfb644c2743cd656adc8058510fdfac80680/cymem-2.0.2-cp36-cp36m-win_amd64.whl\n",
      "Requirement already satisfied: numpy>=1.15.0 in c:\\users\\stee\\anaconda3good\\envs\\learn-env\\lib\\site-packages (from spacy) (1.15.4)\n",
      "Collecting srsly<1.1.0,>=0.0.5 (from spacy)\n",
      "  Downloading https://files.pythonhosted.org/packages/8b/d8/dd8cd2a1620d5ebbc808cd3937e498ce63a58c2207366edba196df093032/srsly-0.0.5-cp36-cp36m-win_amd64.whl (170kB)\n",
      "Requirement already satisfied: jsonschema<3.1.0,>=2.6.0 in c:\\users\\stee\\anaconda3good\\envs\\learn-env\\lib\\site-packages (from spacy) (2.6.0)\n",
      "Collecting thinc<7.1.0,>=7.0.2 (from spacy)\n",
      "  Downloading https://files.pythonhosted.org/packages/12/b0/2c6c0f0edd87a3a4ac039bec792a61603233901a6df53e976d746eb86d04/thinc-7.0.4-cp36-cp36m-win_amd64.whl (1.9MB)\n",
      "Collecting preshed<2.1.0,>=2.0.1 (from spacy)\n",
      "  Downloading https://files.pythonhosted.org/packages/a6/c0/3c238c146ed72f92a1cc3771fa3f66091b80d2a8e15b7c987912443b7843/preshed-2.0.1-cp36-cp36m-win_amd64.whl (73kB)\n",
      "Collecting murmurhash<1.1.0,>=0.28.0 (from spacy)\n",
      "  Downloading https://files.pythonhosted.org/packages/15/8f/0dad3ca706e31258cf7b9adf40f8d2103444a09dd7d66d46cf6980025c65/murmurhash-1.0.2-cp36-cp36m-win_amd64.whl\n",
      "Collecting blis<0.3.0,>=0.2.2 (from spacy)\n",
      "  Downloading https://files.pythonhosted.org/packages/84/0e/35f8ce00fc3412aa3a888a3d8e040c4c65ccbad8310aa2981d3e6f379867/blis-0.2.4-cp36-cp36m-win_amd64.whl (3.1MB)\n",
      "Collecting plac<1.0.0,>=0.9.6 (from spacy)\n",
      "  Downloading https://files.pythonhosted.org/packages/9e/9b/62c60d2f5bc135d2aa1d8c8a86aaf84edb719a59c7f11a4316259e61a298/plac-0.9.6-py2.py3-none-any.whl\n",
      "Requirement already satisfied: requests<3.0.0,>=2.13.0 in c:\\users\\stee\\anaconda3good\\envs\\learn-env\\lib\\site-packages (from spacy) (2.19.1)\n",
      "Collecting wasabi<1.1.0,>=0.2.0 (from spacy)\n",
      "  Downloading https://files.pythonhosted.org/packages/f4/c1/d76ccdd12c716be79162d934fe7de4ac8a318b9302864716dde940641a79/wasabi-0.2.2-py3-none-any.whl\n",
      "Requirement already satisfied: tqdm<5.0.0,>=4.10.0 in c:\\users\\stee\\anaconda3good\\envs\\learn-env\\lib\\site-packages (from thinc<7.1.0,>=7.0.2->spacy) (4.29.1)\n",
      "Requirement already satisfied: idna<2.8,>=2.5 in c:\\users\\stee\\anaconda3good\\envs\\learn-env\\lib\\site-packages (from requests<3.0.0,>=2.13.0->spacy) (2.7)\n",
      "Requirement already satisfied: urllib3<1.24,>=1.21.1 in c:\\users\\stee\\anaconda3good\\envs\\learn-env\\lib\\site-packages (from requests<3.0.0,>=2.13.0->spacy) (1.23)\n",
      "Requirement already satisfied: chardet<3.1.0,>=3.0.2 in c:\\users\\stee\\anaconda3good\\envs\\learn-env\\lib\\site-packages (from requests<3.0.0,>=2.13.0->spacy) (3.0.4)\n",
      "Requirement already satisfied: certifi>=2017.4.17 in c:\\users\\stee\\anaconda3good\\envs\\learn-env\\lib\\site-packages (from requests<3.0.0,>=2.13.0->spacy) (2019.3.9)\n",
      "Installing collected packages: cymem, srsly, preshed, blis, murmurhash, plac, wasabi, thinc, spacy\n",
      "Successfully installed blis-0.2.4 cymem-2.0.2 murmurhash-1.0.2 plac-0.9.6 preshed-2.0.1 spacy-2.1.4 srsly-0.0.5 thinc-7.0.4 wasabi-0.2.2\n"
     ]
    },
    {
     "name": "stderr",
     "output_type": "stream",
     "text": [
      "smart-open 1.8.0 requires bz2file, which is not installed.\n",
      "pexpect 4.6.0 requires ptyprocess>=0.5, which is not installed.\n",
      "nltk 3.4 requires singledispatch, which is not installed.\n",
      "You are using pip version 10.0.1, however version 19.1.1 is available.\n",
      "You should consider upgrading via the 'python -m pip install --upgrade pip' command.\n"
     ]
    }
   ],
   "source": [
    "!pip install spacy"
   ]
  },
  {
   "cell_type": "code",
   "execution_count": 9,
   "metadata": {},
   "outputs": [
    {
     "ename": "OSError",
     "evalue": "[E050] Can't find model 'en'. It doesn't seem to be a shortcut link, a Python package or a valid path to a data directory.",
     "output_type": "error",
     "traceback": [
      "\u001b[1;31m---------------------------------------------------------------------------\u001b[0m",
      "\u001b[1;31mOSError\u001b[0m                                   Traceback (most recent call last)",
      "\u001b[1;32m<ipython-input-9-dc6e834cdfad>\u001b[0m in \u001b[0;36m<module>\u001b[1;34m()\u001b[0m\n\u001b[0;32m      1\u001b[0m \u001b[1;32mimport\u001b[0m \u001b[0mspacy\u001b[0m\u001b[1;33m\u001b[0m\u001b[0m\n\u001b[1;32m----> 2\u001b[1;33m \u001b[0mnlp\u001b[0m \u001b[1;33m=\u001b[0m \u001b[0mspacy\u001b[0m\u001b[1;33m.\u001b[0m\u001b[0mload\u001b[0m\u001b[1;33m(\u001b[0m\u001b[1;34m'en'\u001b[0m\u001b[1;33m)\u001b[0m\u001b[1;33m\u001b[0m\u001b[0m\n\u001b[0m",
      "\u001b[1;32m~\\Anaconda3good\\envs\\learn-env\\lib\\site-packages\\spacy\\__init__.py\u001b[0m in \u001b[0;36mload\u001b[1;34m(name, **overrides)\u001b[0m\n\u001b[0;32m     25\u001b[0m     \u001b[1;32mif\u001b[0m \u001b[0mdepr_path\u001b[0m \u001b[1;32mnot\u001b[0m \u001b[1;32min\u001b[0m \u001b[1;33m(\u001b[0m\u001b[1;32mTrue\u001b[0m\u001b[1;33m,\u001b[0m \u001b[1;32mFalse\u001b[0m\u001b[1;33m,\u001b[0m \u001b[1;32mNone\u001b[0m\u001b[1;33m)\u001b[0m\u001b[1;33m:\u001b[0m\u001b[1;33m\u001b[0m\u001b[0m\n\u001b[0;32m     26\u001b[0m         \u001b[0mdeprecation_warning\u001b[0m\u001b[1;33m(\u001b[0m\u001b[0mWarnings\u001b[0m\u001b[1;33m.\u001b[0m\u001b[0mW001\u001b[0m\u001b[1;33m.\u001b[0m\u001b[0mformat\u001b[0m\u001b[1;33m(\u001b[0m\u001b[0mpath\u001b[0m\u001b[1;33m=\u001b[0m\u001b[0mdepr_path\u001b[0m\u001b[1;33m)\u001b[0m\u001b[1;33m)\u001b[0m\u001b[1;33m\u001b[0m\u001b[0m\n\u001b[1;32m---> 27\u001b[1;33m     \u001b[1;32mreturn\u001b[0m \u001b[0mutil\u001b[0m\u001b[1;33m.\u001b[0m\u001b[0mload_model\u001b[0m\u001b[1;33m(\u001b[0m\u001b[0mname\u001b[0m\u001b[1;33m,\u001b[0m \u001b[1;33m**\u001b[0m\u001b[0moverrides\u001b[0m\u001b[1;33m)\u001b[0m\u001b[1;33m\u001b[0m\u001b[0m\n\u001b[0m\u001b[0;32m     28\u001b[0m \u001b[1;33m\u001b[0m\u001b[0m\n\u001b[0;32m     29\u001b[0m \u001b[1;33m\u001b[0m\u001b[0m\n",
      "\u001b[1;32m~\\Anaconda3good\\envs\\learn-env\\lib\\site-packages\\spacy\\util.py\u001b[0m in \u001b[0;36mload_model\u001b[1;34m(name, **overrides)\u001b[0m\n\u001b[0;32m    134\u001b[0m     \u001b[1;32melif\u001b[0m \u001b[0mhasattr\u001b[0m\u001b[1;33m(\u001b[0m\u001b[0mname\u001b[0m\u001b[1;33m,\u001b[0m \u001b[1;34m\"exists\"\u001b[0m\u001b[1;33m)\u001b[0m\u001b[1;33m:\u001b[0m  \u001b[1;31m# Path or Path-like to model data\u001b[0m\u001b[1;33m\u001b[0m\u001b[0m\n\u001b[0;32m    135\u001b[0m         \u001b[1;32mreturn\u001b[0m \u001b[0mload_model_from_path\u001b[0m\u001b[1;33m(\u001b[0m\u001b[0mname\u001b[0m\u001b[1;33m,\u001b[0m \u001b[1;33m**\u001b[0m\u001b[0moverrides\u001b[0m\u001b[1;33m)\u001b[0m\u001b[1;33m\u001b[0m\u001b[0m\n\u001b[1;32m--> 136\u001b[1;33m     \u001b[1;32mraise\u001b[0m \u001b[0mIOError\u001b[0m\u001b[1;33m(\u001b[0m\u001b[0mErrors\u001b[0m\u001b[1;33m.\u001b[0m\u001b[0mE050\u001b[0m\u001b[1;33m.\u001b[0m\u001b[0mformat\u001b[0m\u001b[1;33m(\u001b[0m\u001b[0mname\u001b[0m\u001b[1;33m=\u001b[0m\u001b[0mname\u001b[0m\u001b[1;33m)\u001b[0m\u001b[1;33m)\u001b[0m\u001b[1;33m\u001b[0m\u001b[0m\n\u001b[0m\u001b[0;32m    137\u001b[0m \u001b[1;33m\u001b[0m\u001b[0m\n\u001b[0;32m    138\u001b[0m \u001b[1;33m\u001b[0m\u001b[0m\n",
      "\u001b[1;31mOSError\u001b[0m: [E050] Can't find model 'en'. It doesn't seem to be a shortcut link, a Python package or a valid path to a data directory."
     ]
    }
   ],
   "source": [
    "import spacy\n",
    "nlp = spacy.load('en')"
   ]
  },
  {
   "cell_type": "code",
   "execution_count": null,
   "metadata": {},
   "outputs": [],
   "source": []
  },
  {
   "cell_type": "code",
   "execution_count": 2,
   "metadata": {},
   "outputs": [
    {
     "data": {
      "text/plain": [
       "93451"
      ]
     },
     "execution_count": 2,
     "metadata": {},
     "output_type": "execute_result"
    }
   ],
   "source": [
    "# with open(newfile, 'w') as outfile, open(oldfile, 'r', encoding='utf-8') as infile:\n",
    "\n",
    "with open('chapter1.txt', 'r', encoding = 'utf-8') as f:\n",
    "    chapter1 = f.read()\n",
    "len(chapter1)"
   ]
  },
  {
   "cell_type": "code",
   "execution_count": 10,
   "metadata": {},
   "outputs": [
    {
     "data": {
      "text/plain": [
       "'Once upon a time and a very good time it was there was a moocow coming\\ndown along the road and this moocow that was coming down along the road\\nmet a nicens little boy named baby tuckoo....\\n\\nHis father told him that story: his father looked at him through a\\nglass: he had a hairy face.\\n\\nHe was baby tuckoo. The moocow came down the road where Betty Byrne\\nlived: she sold lemon platt.\\n\\n    O, the wild rose blossoms\\n    On the little green place.\\n\\n\\nHe sang that song. That was his song.\\n\\n    O, the green wothe botheth.\\n\\n\\nWhen you wet the bed, first it is warm then it gets cold. His mother\\nput on the oilsheet. That had the queer smell.\\n\\nHis mother had a nicer smell than his father. She played on the piano\\nthe sailor’s hornpipe for him to dance. He danced:\\n\\n    Tralala lala,\\n    Tralala tralaladdy,\\n    Tralala lala,\\n    Tralala lala.\\n\\n\\nUncle Charles and Dante clapped. They were older than his father and\\nmother but uncle Charles was older than Dante.\\n\\nDante had two brushes in her press. The brus'"
      ]
     },
     "execution_count": 10,
     "metadata": {},
     "output_type": "execute_result"
    }
   ],
   "source": [
    "chapter1[:1000]"
   ]
  },
  {
   "cell_type": "code",
   "execution_count": 15,
   "metadata": {},
   "outputs": [],
   "source": [
    "chapter1_lines = chapter1.split('.')"
   ]
  },
  {
   "cell_type": "code",
   "execution_count": 17,
   "metadata": {},
   "outputs": [
    {
     "data": {
      "text/plain": [
       "1118"
      ]
     },
     "execution_count": 17,
     "metadata": {},
     "output_type": "execute_result"
    }
   ],
   "source": [
    "len(chapter1_lines)"
   ]
  },
  {
   "cell_type": "code",
   "execution_count": 3,
   "metadata": {},
   "outputs": [
    {
     "data": {
      "text/plain": [
       "82955"
      ]
     },
     "execution_count": 3,
     "metadata": {},
     "output_type": "execute_result"
    }
   ],
   "source": [
    "with open('chapter2.txt', 'r', encoding = 'utf-8') as f:\n",
    "    chapter2 = f.read()\n",
    "len(chapter2)"
   ]
  },
  {
   "cell_type": "code",
   "execution_count": 11,
   "metadata": {},
   "outputs": [
    {
     "data": {
      "text/plain": [
       "\"{\\\\rtf1\\\\ansi\\\\ansicpg1252\\\\cocoartf1671\\\\cocoasubrtf400\\n{\\\\fonttbl\\\\f0\\\\fswiss\\\\fcharset0 Helvetica;}\\n{\\\\colortbl;\\\\red255\\\\green255\\\\blue255;}\\n{\\\\*\\\\expandedcolortbl;;}\\n\\\\margl1440\\\\margr1440\\\\vieww10800\\\\viewh8400\\\\viewkind0\\n\\\\pard\\\\tx720\\\\tx1440\\\\tx2160\\\\tx2880\\\\tx3600\\\\tx4320\\\\tx5040\\\\tx5760\\\\tx6480\\\\tx7200\\\\tx7920\\\\tx8640\\\\pardirnatural\\\\partightenfactor0\\n\\n\\\\f0\\\\fs24 \\\\cf0 Uncle Charles smoked such black twist that at last his nephew suggested\\\\\\nto him to enjoy his morning smoke in a little outhouse at the end of\\\\\\nthe garden.\\\\\\n\\\\\\n\\\\'97Very good, Simon. All serene, Simon, said the old man tranquilly.\\\\\\nAnywhere you like. The outhouse will do me nicely: it will be more\\\\\\nsalubrious.\\\\\\n\\\\\\n\\\\'97Damn me, said Mr Dedalus frankly, if I know how you can smoke such\\\\\\nvillainous awful tobacco. It\\\\'92s like gunpowder, by God.\\\\\\n\\\\\\n\\\\'97It\\\\'92s very nice, Simon, replied the old man. Very cool and mollifying.\\\\\\n\\\\\\nEvery morning, therefore, uncle Charles repaired to his outhouse but\\\\\\nnot before he had greased and brushed scrupulously his back h\""
      ]
     },
     "execution_count": 11,
     "metadata": {},
     "output_type": "execute_result"
    }
   ],
   "source": [
    "chapter2[:1000]"
   ]
  },
  {
   "cell_type": "code",
   "execution_count": 18,
   "metadata": {},
   "outputs": [
    {
     "data": {
      "text/plain": [
       "738"
      ]
     },
     "execution_count": 18,
     "metadata": {},
     "output_type": "execute_result"
    }
   ],
   "source": [
    "len(chapter2.split('.'))"
   ]
  },
  {
   "cell_type": "code",
   "execution_count": 4,
   "metadata": {},
   "outputs": [
    {
     "data": {
      "text/plain": [
       "92923"
      ]
     },
     "execution_count": 4,
     "metadata": {},
     "output_type": "execute_result"
    }
   ],
   "source": [
    "with open('chapter3.txt', 'r', encoding = 'utf-8') as f:\n",
    "    chapter3 = f.read()\n",
    "len(chapter3)"
   ]
  },
  {
   "cell_type": "code",
   "execution_count": 12,
   "metadata": {
    "scrolled": true
   },
   "outputs": [
    {
     "data": {
      "text/plain": [
       "'{\\\\rtf1\\\\ansi\\\\ansicpg1252\\\\cocoartf1671\\\\cocoasubrtf400\\n{\\\\fonttbl\\\\f0\\\\fswiss\\\\fcharset0 Helvetica;}\\n{\\\\colortbl;\\\\red255\\\\green255\\\\blue255;}\\n{\\\\*\\\\expandedcolortbl;;}\\n\\\\margl1440\\\\margr1440\\\\vieww10800\\\\viewh8400\\\\viewkind0\\n\\\\pard\\\\tx720\\\\tx1440\\\\tx2160\\\\tx2880\\\\tx3600\\\\tx4320\\\\tx5040\\\\tx5760\\\\tx6480\\\\tx7200\\\\tx7920\\\\tx8640\\\\pardirnatural\\\\partightenfactor0\\n\\n\\\\f0\\\\fs24 \\\\cf0 Chapter III\\\\\\n\\\\\\n\\\\\\nThe swift December dusk had come tumbling clownishly after its dull day\\\\\\nand as he stared through the dull square of the window of the\\\\\\nschoolroom he felt his belly crave for its food. He hoped there would\\\\\\nbe stew for dinner, turnips and carrots and bruised potatoes and fat\\\\\\nmutton pieces to be ladled out in thick peppered flour-fattened sauce.\\\\\\nStuff it into you, his belly counselled him.\\\\\\n\\\\\\nIt would be a gloomy secret night. After early nightfall the yellow\\\\\\nlamps would light up, here and there, the squalid quarter of the\\\\\\nbrothels. He would follow a devious course up and down the streets,\\\\\\ncircling always nearer and nearer in a'"
      ]
     },
     "execution_count": 12,
     "metadata": {},
     "output_type": "execute_result"
    }
   ],
   "source": [
    "chapter3[:1000]"
   ]
  },
  {
   "cell_type": "code",
   "execution_count": 19,
   "metadata": {},
   "outputs": [
    {
     "data": {
      "text/plain": [
       "747"
      ]
     },
     "execution_count": 19,
     "metadata": {},
     "output_type": "execute_result"
    }
   ],
   "source": [
    "len(chapter3.split('.'))"
   ]
  },
  {
   "cell_type": "code",
   "execution_count": 5,
   "metadata": {},
   "outputs": [
    {
     "data": {
      "text/plain": [
       "54328"
      ]
     },
     "execution_count": 5,
     "metadata": {},
     "output_type": "execute_result"
    }
   ],
   "source": [
    "with open('chapter4.txt', 'r', encoding = 'utf-8') as f:\n",
    "    chapter4 = f.read()\n",
    "len(chapter4)"
   ]
  },
  {
   "cell_type": "code",
   "execution_count": 13,
   "metadata": {},
   "outputs": [
    {
     "data": {
      "text/plain": [
       "'{\\\\rtf1\\\\ansi\\\\ansicpg1252\\\\cocoartf1671\\\\cocoasubrtf400\\n{\\\\fonttbl\\\\f0\\\\fswiss\\\\fcharset0 Helvetica;}\\n{\\\\colortbl;\\\\red255\\\\green255\\\\blue255;}\\n{\\\\*\\\\expandedcolortbl;;}\\n\\\\margl1440\\\\margr1440\\\\vieww10800\\\\viewh8400\\\\viewkind0\\n\\\\pard\\\\tx720\\\\tx1440\\\\tx2160\\\\tx2880\\\\tx3600\\\\tx4320\\\\tx5040\\\\tx5760\\\\tx6480\\\\tx7200\\\\tx7920\\\\tx8640\\\\pardirnatural\\\\partightenfactor0\\n\\n\\\\f0\\\\fs24 \\\\cf0 Sunday was dedicated to the mystery of the Holy Trinity, Monday to the\\\\\\nHoly Ghost, Tuesday to the Guardian Angels, Wednesday to Saint Joseph,\\\\\\nThursday to the Most Blessed Sacrament of the Altar, Friday to the\\\\\\nSuffering Jesus, Saturday to the Blessed Virgin Mary.\\\\\\n\\\\\\nEvery morning he hallowed himself anew in the presence of some holy\\\\\\nimage or mystery. His day began with an heroic offering of its every\\\\\\nmoment of thought or action for the intentions of the sovereign pontiff\\\\\\nand with an early mass. The raw morning air whetted his resolute piety;\\\\\\nand often as he knelt among the few worshippers at the sidealtar,\\\\\\nfollowing with his interleaved pray'"
      ]
     },
     "execution_count": 13,
     "metadata": {},
     "output_type": "execute_result"
    }
   ],
   "source": [
    "chapter4[:1000]"
   ]
  },
  {
   "cell_type": "code",
   "execution_count": 6,
   "metadata": {},
   "outputs": [
    {
     "data": {
      "text/plain": [
       "152007"
      ]
     },
     "execution_count": 6,
     "metadata": {},
     "output_type": "execute_result"
    }
   ],
   "source": [
    "with open('chapter5.txt', 'r', encoding = 'utf-8') as f:\n",
    "    chapter5 = f.read()\n",
    "len(chapter5)"
   ]
  },
  {
   "cell_type": "code",
   "execution_count": 14,
   "metadata": {},
   "outputs": [
    {
     "data": {
      "text/plain": [
       "\"{\\\\rtf1\\\\ansi\\\\ansicpg1252\\\\cocoartf1671\\\\cocoasubrtf400\\n{\\\\fonttbl\\\\f0\\\\fswiss\\\\fcharset0 Helvetica;}\\n{\\\\colortbl;\\\\red255\\\\green255\\\\blue255;}\\n{\\\\*\\\\expandedcolortbl;;}\\n\\\\margl1440\\\\margr1440\\\\vieww10800\\\\viewh8400\\\\viewkind0\\n\\\\pard\\\\tx720\\\\tx1440\\\\tx2160\\\\tx2880\\\\tx3600\\\\tx4320\\\\tx5040\\\\tx5760\\\\tx6480\\\\tx7200\\\\tx7920\\\\tx8640\\\\pardirnatural\\\\partightenfactor0\\n\\n\\\\f0\\\\fs24 \\\\cf0 He drained his third cup of watery tea to the dregs and set to chewing\\\\\\nthe crusts of fried bread that were scattered near him, staring into\\\\\\nthe dark pool of the jar. The yellow dripping had been scooped out like\\\\\\na boghole and the pool under it brought back to his memory the dark\\\\\\nturfcoloured water of the bath in Clongowes. The box of pawn tickets at\\\\\\nhis elbow had just been rifled and he took up idly one after another in\\\\\\nhis greasy fingers the blue and white dockets, scrawled and sanded and\\\\\\ncreased and bearing the name of the pledger as Daly or MacEvoy.\\\\\\n\\\\\\n\\\\\\n  1 Pair Buskins.\\\\\\n  1 D. Coat.\\\\\\n  3 Articles and White.\\\\\\n  1 Man\\\\'92s Pants.\\\\\\n\\\\\\n\\\\\\nTh\""
      ]
     },
     "execution_count": 14,
     "metadata": {},
     "output_type": "execute_result"
    }
   ],
   "source": [
    "chapter5[:1000]"
   ]
  },
  {
   "cell_type": "code",
   "execution_count": null,
   "metadata": {},
   "outputs": [],
   "source": [
    "#doc = nlp(open(\"pg345.txt\").read().decode('utf8'))"
   ]
  },
  {
   "cell_type": "code",
   "execution_count": null,
   "metadata": {},
   "outputs": [],
   "source": []
  },
  {
   "cell_type": "code",
   "execution_count": null,
   "metadata": {},
   "outputs": [],
   "source": []
  }
 ],
 "metadata": {
  "kernelspec": {
   "display_name": "Python 3",
   "language": "python",
   "name": "python3"
  },
  "language_info": {
   "codemirror_mode": {
    "name": "ipython",
    "version": 3
   },
   "file_extension": ".py",
   "mimetype": "text/x-python",
   "name": "python",
   "nbconvert_exporter": "python",
   "pygments_lexer": "ipython3",
   "version": "3.6.6"
  }
 },
 "nbformat": 4,
 "nbformat_minor": 2
}
